{
 "cells": [
  {
   "cell_type": "code",
   "execution_count": 5,
   "metadata": {},
   "outputs": [
    {
     "name": "stdout",
     "output_type": "stream",
     "text": [
      "Ok\n",
      "Ok\n",
      "Ok\n",
      "Ok\n"
     ]
    }
   ],
   "source": [
    "def checking():\n",
    "    print('Ok') \n",
    "checking() \n",
    "checking()\n",
    "checking() \n",
    "checking()\n",
    "\n",
    "\n",
    "\n",
    "#Functions are defined using the def keyword.\n",
    "#After this keyword comes an identifier name for the function, followed by a pair of parentheses \n",
    "#which may enclose some names of variables, and by the final colon that ends the line. \n",
    "#Next follows the block of statements that are part of this function.\n"
   ]
  },
  {
   "cell_type": "code",
   "execution_count": 2,
   "metadata": {},
   "outputs": [
    {
     "name": "stdout",
     "output_type": "stream",
     "text": [
      "Hello World!\n",
      "Hello World!\n"
     ]
    }
   ],
   "source": [
    "def sayHello():\n",
    "    print('Hello World!') # block belonging to the function\n",
    "# End of function #\n",
    " \n",
    "sayHello() # call the function\n",
    "sayHello() # call the function again"
   ]
  },
  {
   "cell_type": "code",
   "execution_count": 3,
   "metadata": {},
   "outputs": [
    {
     "name": "stdout",
     "output_type": "stream",
     "text": [
      "4 is maximum\n"
     ]
    }
   ],
   "source": [
    "def printMax(a, b):\n",
    "    if a > b:\n",
    "        print(a, 'is maximum')\n",
    "    elif a == b:\n",
    "        print(a, 'is equal to', b)\n",
    "    else:\n",
    "        print(b, 'is maximum')\n",
    "printMax(3, 4)\n",
    "\n",
    "#Here, we define a function called printMax that uses two parameters called a and b. \n",
    "#We find out the greater number using a simple if..else statement and then print the bigger number."
   ]
  },
  {
   "cell_type": "code",
   "execution_count": 8,
   "metadata": {},
   "outputs": [
    {
     "name": "stdout",
     "output_type": "stream",
     "text": [
      "x is 50\n",
      "New value is equal to 2\n",
      "x is now 50\n"
     ]
    }
   ],
   "source": [
    "x = 50\n",
    "def func(x):\n",
    "    print('x is', x)\n",
    "    x = 2\n",
    "    print('New value is equal to', x)\n",
    "func(x)\n",
    "print('x is now', x)\n",
    "\n",
    "#The first time that we print the value of the name x with the first line in the function’s body, \n",
    "#Python uses the value of the parameter declared in the main block, above the function definition.\n",
    "#Next, we assign the value 2 to x. The name x is local to our function. \n",
    "#So, when we change the value of x in the function, the x defined in the main block remains unaffected.\n",
    "#With the last print function call, we display the value of x as defined in the main block, \n",
    "#thereby confirming that it is actually unaffected by the local assignment within the previously called function."
   ]
  },
  {
   "cell_type": "code",
   "execution_count": 20,
   "metadata": {},
   "outputs": [
    {
     "ename": "SyntaxError",
     "evalue": "positional argument follows keyword argument (<ipython-input-20-79195084728b>, line 3)",
     "output_type": "error",
     "traceback": [
      "\u001b[0;36m  File \u001b[0;32m\"<ipython-input-20-79195084728b>\"\u001b[0;36m, line \u001b[0;32m3\u001b[0m\n\u001b[0;31m    say(a=2, 10)\u001b[0m\n\u001b[0m            ^\u001b[0m\n\u001b[0;31mSyntaxError\u001b[0m\u001b[0;31m:\u001b[0m positional argument follows keyword argument\n"
     ]
    }
   ],
   "source": [
    "def say(zahid, times = 1):\n",
    "    print(zahid * times)\n",
    "say(a=2, 10)\n",
    "say('World', 2)\n",
    "\n",
    "\n",
    "#For some functions, you may want to make some parameters optional and use default values in case the user does not want to provide values for them. \n",
    "#This is done with the help of default argument values. \n",
    "#You can specify default argument values for parameters by appending to the parameter name in the function definition the assignment operator (=) followed by the default value.\n",
    "\n",
    "\n",
    "#The function named say is used to print a string as many times as specified. \n",
    "#If we don’t supply a value, then by default, the string is printed just once. \n",
    "#We achieve this by specifying a default argument value of 1 to the parameter times.\n",
    "#In the first usage of say, we supply only the string and it prints the string once. \n",
    "#In the second usage of say, we supply both the string and an argument 5 stating that we want to say the string message 5 times."
   ]
  },
  {
   "cell_type": "code",
   "execution_count": 24,
   "metadata": {},
   "outputs": [
    {
     "name": "stdout",
     "output_type": "stream",
     "text": [
      "a is 4 and b is 3 and c is 10\n",
      "a is 6 and b is 5 and c is 24\n",
      "a is 100 and b is 5 and c is 50\n"
     ]
    }
   ],
   "source": [
    "def func(a=4, b=5, c=10):\n",
    "    print('a is', a, 'and b is', b, 'and c is', c)\n",
    " \n",
    "func(b=3) #Assign krdi ha new value\n",
    "func(a= 6, c = 24)\n",
    "func(c = 50, a = 100)\n",
    "\n",
    "#If you have some functions with many parameters and you want to specify only some of them,\n",
    "#then you can give values for such parameters by naming them – this is called keyword arguments – \n",
    "#we use the name (keyword) instead of the position (which we have been using all along) to specify the arguments to the function.\n",
    "\n",
    "#The function named func has one parameter without a default argument value, followed by two parameters with default argument values.\n",
    "\n",
    "#In the first usage, func(3, 7), the parameter a gets the value 3, the parameter b gets the value 7 and c gets the default value of 10.\n",
    "\n",
    "#In the second usage func(25, c=24), the variable a gets the value of 25 due to the position of the argument. \n",
    "#Then, the parameter c gets the value of 24 due to naming i.e. keyword arguments. \n",
    "#The variable b gets the default value of 5.\n",
    "\n",
    "#In the third usage func(c=50, a=100), we use keyword arguments for all specified values. \n",
    "#Notice that we are specifying the value for parameter c before that for a even though a is defined before c in the function definition."
   ]
  },
  {
   "cell_type": "code",
   "execution_count": 26,
   "metadata": {},
   "outputs": [
    {
     "name": "stdout",
     "output_type": "stream",
     "text": [
      "5\n"
     ]
    }
   ],
   "source": [
    "def maximum(x, y):\n",
    "    if x > y:\n",
    "        return x\n",
    "    elif x == y:\n",
    "        return 'The numbers are equal'\n",
    "    else:\n",
    "        return y\n",
    "print(maximum(4, 5))\n",
    "\n",
    "#The maximum function returns the maximum of the parameters, in this case the numbers supplied to the function. \n",
    "#It uses a simple if..else statement to find the greater value and then returns that value."
   ]
  },
  {
   "cell_type": "code",
   "execution_count": null,
   "metadata": {},
   "outputs": [],
   "source": []
  }
 ],
 "metadata": {
  "kernelspec": {
   "display_name": "Python 2",
   "language": "python",
   "name": "python2"
  },
  "language_info": {
   "codemirror_mode": {
    "name": "ipython",
    "version": 3
   },
   "file_extension": ".py",
   "mimetype": "text/x-python",
   "name": "python",
   "nbconvert_exporter": "python",
   "pygments_lexer": "ipython3",
   "version": "3.6.9"
  }
 },
 "nbformat": 4,
 "nbformat_minor": 2
}
